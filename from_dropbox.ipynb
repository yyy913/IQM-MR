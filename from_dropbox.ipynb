{
 "cells": [
  {
   "cell_type": "markdown",
   "metadata": {},
   "source": [
    "# Dataset"
   ]
  },
  {
   "cell_type": "code",
   "execution_count": 8,
   "metadata": {},
   "outputs": [],
   "source": [
    "import os\n",
    "import numpy as np\n",
    "import matplotlib.pyplot as plt\n",
    "import torch \n",
    "import torch.nn.functional as F\n",
    "import numpy as np\n",
    "from ipywidgets import interact\n",
    "from tqdm import tqdm\n",
    "\n",
    "from mri_processing import *"
   ]
  },
  {
   "cell_type": "code",
   "execution_count": 9,
   "metadata": {},
   "outputs": [],
   "source": [
    "def explore_3D_array_comparison(arr_before: np.ndarray, arr_after: np.ndarray, cmap: str = 'gray'):\n",
    "\n",
    "  assert arr_after.shape == arr_before.shape\n",
    "\n",
    "  def fn(SLICE):\n",
    "    fig, (ax1, ax2) = plt.subplots(1, 2, sharex='col', sharey='row', figsize=(10,10))\n",
    "\n",
    "    ax1.set_title('Before', fontsize=15)\n",
    "    ax1.imshow(arr_before[SLICE, :, :], cmap=cmap, origin='lower')\n",
    "\n",
    "    ax2.set_title('After', fontsize=15)\n",
    "    ax2.imshow(arr_after[SLICE, :, :], cmap=cmap, origin='lower')\n",
    "\n",
    "    plt.tight_layout()\n",
    "\n",
    "  interact(fn, SLICE=(0, arr_before.shape[0]-1))"
   ]
  },
  {
   "cell_type": "code",
   "execution_count": 10,
   "metadata": {},
   "outputs": [],
   "source": [
    "def zero_pad_data(data, target_size=396):\n",
    "    _, _, h, w = data.shape\n",
    "    if w >= target_size and h >= target_size:\n",
    "        return data\n",
    "    \n",
    "    pad_w = (target_size - w) // 2\n",
    "    pad_h = (target_size - h) // 2\n",
    "    \n",
    "    pad = (pad_h, pad_h + (target_size - h) % 2, pad_w, pad_w + (target_size - w) % 2)\n",
    "\n",
    "    padded_data = F.pad(data, pad, mode='constant', value=0)\n",
    "    return padded_data"
   ]
  },
  {
   "cell_type": "code",
   "execution_count": 11,
   "metadata": {},
   "outputs": [],
   "source": [
    "def process_dict(data_dict):\n",
    "    for key, volume in tqdm(data_dict.items(), desc=\"Processing volumes\"):\n",
    "        height, width = volume.shape[-2:]\n",
    "        h_from = (height - width) // 2\n",
    "        h_to = h_from + width\n",
    "        volume = volume[:, :, h_from:h_to, :]\n",
    "        if volume.shape[0] > 10:\n",
    "            volume = volume[:10]\n",
    "        padded_data = zero_pad_data(fft2c(torch.from_numpy(volume)))\n",
    "        volume = rss_coil_combine(ifft2c(padded_data).numpy())\n",
    "        for i in range(volume.shape[0]): \n",
    "            volume[i, :, :] = minmax_normalization(volume[i, :, :])\n",
    "        data_dict[key] = volume\n",
    "    return data_dict"
   ]
  },
  {
   "cell_type": "code",
   "execution_count": 12,
   "metadata": {},
   "outputs": [],
   "source": [
    "def save_data(data_dict, folder_name):\n",
    "    root_dir = os.path.join(os.getcwd(), 'data')\n",
    "    output_dir = os.path.join(root_dir, folder_name)\n",
    "    os.makedirs(output_dir, exist_ok=True) \n",
    "    for key, volume in tqdm(data_dict.items(), desc=\"Save volumes\"):\n",
    "        file_path = os.path.join(output_dir, f\"{key}.npy\")\n",
    "        np.save(file_path, volume)\n",
    "\n",
    "def load_data(folder_name):\n",
    "    root_dir = os.path.join(os.getcwd(), 'data')\n",
    "    output_dir = os.path.join(root_dir, folder_name)\n",
    "\n",
    "    data_dict = {}\n",
    "\n",
    "    for file_name in os.listdir(output_dir):\n",
    "        if file_name.endswith('.npy'):\n",
    "            key = os.path.splitext(file_name)[0]\n",
    "            data_dict[key] = np.load(os.path.join(output_dir, file_name), allow_pickle=True)\n",
    "\n",
    "    print(len(data_dict))\n",
    "    return data_dict"
   ]
  },
  {
   "cell_type": "markdown",
   "metadata": {},
   "source": [
    "# Dropbox"
   ]
  },
  {
   "cell_type": "code",
   "execution_count": 2,
   "metadata": {},
   "outputs": [],
   "source": [
    "from load_data.load_from_dropbox import *"
   ]
  },
  {
   "cell_type": "code",
   "execution_count": 3,
   "metadata": {},
   "outputs": [],
   "source": [
    "def upload_folder_to_dropbox(local_folder, dropbox_folder):\n",
    "    dbx = dropbox_connect()\n",
    "\n",
    "    for root, dirs, files in os.walk(local_folder):\n",
    "        relative_path = os.path.relpath(root, local_folder)\n",
    "        dropbox_path = os.path.join(dropbox_folder, relative_path).replace(\"\\\\\", \"/\")\n",
    "        \n",
    "        if relative_path != \".\":\n",
    "            try:\n",
    "                dbx.files_create_folder(dropbox_path)\n",
    "            except dropbox.exceptions.ApiError as e:\n",
    "                if e.error.is_path() and isinstance(e.error.get_path().is_conflict(), dropbox.files.FolderConflictError):\n",
    "                    pass  \n",
    "\n",
    "        for file_name in files:\n",
    "            local_file_path = os.path.join(root, file_name)\n",
    "            dropbox_file_path = os.path.join(dropbox_path, file_name).replace(\"\\\\\", \"/\")\n",
    "            \n",
    "            with open(local_file_path, \"rb\") as f:\n",
    "                print(f\"Uploading {file_name} to {dropbox_file_path}\")\n",
    "                dbx.files_upload(f.read(), dropbox_file_path, mode=dropbox.files.WriteMode(\"overwrite\"))"
   ]
  },
  {
   "cell_type": "markdown",
   "metadata": {},
   "source": [
    "## t1 (134)"
   ]
  },
  {
   "cell_type": "code",
   "execution_count": null,
   "metadata": {},
   "outputs": [
    {
     "name": "stdout",
     "output_type": "stream",
     "text": [
      "Loaded 134 npy files.\n"
     ]
    }
   ],
   "source": [
    "dbx = dropbox_connect()\n",
    "t1_clear = load_npy_from_dropbox(dbx, '/Clear_data_notrans_t1_1114_select_clear')\n",
    "print(f\"Loaded {len(t1_clear)} npy files.\") #134\n",
    "t1_clear = process_dict(t1_clear)"
   ]
  },
  {
   "cell_type": "code",
   "execution_count": null,
   "metadata": {},
   "outputs": [
    {
     "name": "stdout",
     "output_type": "stream",
     "text": [
      "Loaded 134 npy files.\n"
     ]
    }
   ],
   "source": [
    "dbx = dropbox_connect()\n",
    "t1_g1 = load_npy_from_dropbox(dbx, '/Motion_data_140line_notrans_t1_1115_g1')\n",
    "print(f\"Loaded {len(t1_g1)} npy files.\") #134\n",
    "t1_g1 = process_dict(t1_g1)"
   ]
  },
  {
   "cell_type": "code",
   "execution_count": null,
   "metadata": {},
   "outputs": [
    {
     "name": "stdout",
     "output_type": "stream",
     "text": [
      "Loaded 134 npy files.\n"
     ]
    }
   ],
   "source": [
    "dbx = dropbox_connect()\n",
    "t1_g2 = load_npy_from_dropbox(dbx, '/Motion_data_140line_notrans_t1_1115_g2')\n",
    "print(f\"Loaded {len(t1_g2)} npy files.\") #134\n",
    "t1_g2 = process_dict(t1_g2)"
   ]
  },
  {
   "cell_type": "code",
   "execution_count": null,
   "metadata": {},
   "outputs": [
    {
     "name": "stdout",
     "output_type": "stream",
     "text": [
      "Loaded 134 npy files.\n"
     ]
    }
   ],
   "source": [
    "dbx = dropbox_connect()\n",
    "t1_g3 = load_npy_from_dropbox(dbx, '/Motion_data_140line_notrans_t1_1115_g3')\n",
    "print(f\"Loaded {len(t1_g3)} npy files.\") #134\n",
    "t1_g3 = process_dict(t1_g3)"
   ]
  },
  {
   "cell_type": "code",
   "execution_count": null,
   "metadata": {},
   "outputs": [
    {
     "name": "stdout",
     "output_type": "stream",
     "text": [
      "Loaded 134 npy files.\n"
     ]
    }
   ],
   "source": [
    "dbx = dropbox_connect()\n",
    "t1_g4 = load_npy_from_dropbox(dbx, '/Motion_data_140line_notrans_t1_1115_g4')\n",
    "print(f\"Loaded {len(t1_g4)} npy files.\") #134\n",
    "t1_g4 = process_dict(t1_g4)"
   ]
  },
  {
   "cell_type": "code",
   "execution_count": null,
   "metadata": {},
   "outputs": [
    {
     "name": "stdout",
     "output_type": "stream",
     "text": [
      "Loaded 134 npy files.\n"
     ]
    }
   ],
   "source": [
    "dbx = dropbox_connect()\n",
    "t1_g5 = load_npy_from_dropbox(dbx, '/Motion_data_140line_notrans_t1_1115_g5')\n",
    "print(f\"Loaded {len(t1_g5)} npy files.\") #134\n",
    "t1_g5 = process_dict(t1_g5)"
   ]
  },
  {
   "cell_type": "markdown",
   "metadata": {},
   "source": [
    "## flair (119)"
   ]
  },
  {
   "cell_type": "code",
   "execution_count": null,
   "metadata": {},
   "outputs": [
    {
     "name": "stdout",
     "output_type": "stream",
     "text": [
      "Loaded 119 npy files.\n"
     ]
    }
   ],
   "source": [
    "dbx = dropbox_connect()\n",
    "flair_clear = load_npy_from_dropbox(dbx, '/Clear_data_notrans_flair_1114_select_clear')\n",
    "print(f\"Loaded {len(flair_clear)} npy files.\") #119\n",
    "flair_clear = process_dict(flair_clear)"
   ]
  },
  {
   "cell_type": "code",
   "execution_count": null,
   "metadata": {},
   "outputs": [
    {
     "name": "stdout",
     "output_type": "stream",
     "text": [
      "Loaded 119 npy files.\n"
     ]
    }
   ],
   "source": [
    "dbx = dropbox_connect()\n",
    "flair_g1 = load_npy_from_dropbox(dbx, '/Motion_data_140line_notrans_flair_1115_g1')\n",
    "print(f\"Loaded {len(flair_g1)} npy files.\")\n",
    "flair_g1 = process_dict(flair_g1)"
   ]
  },
  {
   "cell_type": "code",
   "execution_count": 21,
   "metadata": {},
   "outputs": [
    {
     "name": "stdout",
     "output_type": "stream",
     "text": [
      "Loaded 119 npy files.\n"
     ]
    },
    {
     "name": "stderr",
     "output_type": "stream",
     "text": [
      "Processing volumes: 100%|██████████| 119/119 [10:41<00:00,  5.39s/it]\n"
     ]
    }
   ],
   "source": [
    "dbx = dropbox_connect()\n",
    "flair_g2 = load_npy_from_dropbox(dbx, '/Motion_data_140line_notrans_flair_1115_g2')\n",
    "print(f\"Loaded {len(flair_g2)} npy files.\") \n",
    "flair_g2 = process_dict(flair_g2)"
   ]
  },
  {
   "cell_type": "code",
   "execution_count": 23,
   "metadata": {},
   "outputs": [
    {
     "name": "stdout",
     "output_type": "stream",
     "text": [
      "Loaded 119 npy files.\n"
     ]
    },
    {
     "name": "stderr",
     "output_type": "stream",
     "text": [
      "Processing volumes: 100%|██████████| 119/119 [10:44<00:00,  5.42s/it]\n"
     ]
    }
   ],
   "source": [
    "dbx = dropbox_connect()\n",
    "flair_g3 = load_npy_from_dropbox(dbx, '/Motion_data_140line_notrans_flair_1115_g3')\n",
    "print(f\"Loaded {len(flair_g3)} npy files.\") \n",
    "flair_g3 = process_dict(flair_g3)"
   ]
  },
  {
   "cell_type": "code",
   "execution_count": null,
   "metadata": {},
   "outputs": [],
   "source": [
    "dbx = dropbox_connect()\n",
    "flair_g4 = load_npy_from_dropbox(dbx, '/Motion_data_140line_notrans_flair_1115_g4')\n",
    "print(f\"Loaded {len(flair_g4)} npy files.\") \n",
    "flair_g4 = process_dict(flair_g4)"
   ]
  },
  {
   "cell_type": "code",
   "execution_count": 7,
   "metadata": {},
   "outputs": [
    {
     "name": "stdout",
     "output_type": "stream",
     "text": [
      "Loaded 119 npy files.\n"
     ]
    },
    {
     "name": "stderr",
     "output_type": "stream",
     "text": [
      "Processing volumes: 100%|██████████| 119/119 [02:03<00:00,  1.04s/it]\n"
     ]
    }
   ],
   "source": [
    "dbx = dropbox_connect()\n",
    "flair_g5 = load_npy_from_dropbox(dbx, '/Motion_data_140line_notrans_flair_1115_g5')\n",
    "print(f\"Loaded {len(flair_g5)} npy files.\") \n",
    "flair_g5 = process_dict(flair_g5)"
   ]
  },
  {
   "cell_type": "markdown",
   "metadata": {},
   "source": [
    "## t1post (105)"
   ]
  },
  {
   "cell_type": "code",
   "execution_count": 9,
   "metadata": {},
   "outputs": [
    {
     "name": "stdout",
     "output_type": "stream",
     "text": [
      "Loaded 105 npy files.\n"
     ]
    },
    {
     "name": "stderr",
     "output_type": "stream",
     "text": [
      "Processing volumes: 100%|██████████| 105/105 [02:20<00:00,  1.33s/it]\n",
      "Save volumes: 100%|██████████| 105/105 [00:00<00:00, 158.51it/s]\n"
     ]
    }
   ],
   "source": [
    "dbx = dropbox_connect()\n",
    "t1post_clear = load_npy_from_dropbox(dbx, '/Clear_data_notrans_t1post_1114_select_clear')\n",
    "print(f\"Loaded {len(t1post_clear)} npy files.\")\n",
    "t1post_clear = process_dict(t1post_clear)\n",
    "save_data(t1post_clear, \"t1post_clear\")"
   ]
  },
  {
   "cell_type": "code",
   "execution_count": 10,
   "metadata": {},
   "outputs": [
    {
     "name": "stdout",
     "output_type": "stream",
     "text": [
      "Loaded 105 npy files.\n"
     ]
    },
    {
     "name": "stderr",
     "output_type": "stream",
     "text": [
      "Processing volumes: 100%|██████████| 105/105 [02:17<00:00,  1.31s/it]\n",
      "Save volumes: 100%|██████████| 105/105 [00:00<00:00, 137.78it/s]\n"
     ]
    }
   ],
   "source": [
    "dbx = dropbox_connect()\n",
    "t1post_g1 = load_npy_from_dropbox(dbx, '/Motion_data_140line_notrans_t1post_1115_g1')\n",
    "print(f\"Loaded {len(t1post_g1)} npy files.\") \n",
    "t1post_g1 = process_dict(t1post_g1)\n",
    "save_data(t1post_g1, \"t1post_g1\")"
   ]
  },
  {
   "cell_type": "code",
   "execution_count": 11,
   "metadata": {},
   "outputs": [
    {
     "name": "stdout",
     "output_type": "stream",
     "text": [
      "Loaded 105 npy files.\n"
     ]
    },
    {
     "name": "stderr",
     "output_type": "stream",
     "text": [
      "Processing volumes: 100%|██████████| 105/105 [02:12<00:00,  1.26s/it]\n",
      "Save volumes: 100%|██████████| 105/105 [00:00<00:00, 146.12it/s]\n"
     ]
    }
   ],
   "source": [
    "dbx = dropbox_connect()\n",
    "t1post_g2 = load_npy_from_dropbox(dbx, '/Motion_data_140line_notrans_t1post_1115_g2')\n",
    "print(f\"Loaded {len(t1post_g2)} npy files.\") \n",
    "t1post_g2 = process_dict(t1post_g2)\n",
    "save_data(t1post_g2, \"t1post_g2\")"
   ]
  },
  {
   "cell_type": "code",
   "execution_count": 12,
   "metadata": {},
   "outputs": [
    {
     "name": "stdout",
     "output_type": "stream",
     "text": [
      "Loaded 105 npy files.\n"
     ]
    },
    {
     "name": "stderr",
     "output_type": "stream",
     "text": [
      "Processing volumes: 100%|██████████| 105/105 [02:16<00:00,  1.30s/it]\n",
      "Save volumes: 100%|██████████| 105/105 [00:00<00:00, 156.36it/s]\n"
     ]
    }
   ],
   "source": [
    "dbx = dropbox_connect()\n",
    "t1post_g3 = load_npy_from_dropbox(dbx, '/Motion_data_140line_notrans_t1post_1115_g3')\n",
    "print(f\"Loaded {len(t1post_g3)} npy files.\") \n",
    "t1post_g3 = process_dict(t1post_g3)\n",
    "save_data(t1post_g3, \"t1post_g3\")"
   ]
  },
  {
   "cell_type": "code",
   "execution_count": 13,
   "metadata": {},
   "outputs": [
    {
     "name": "stdout",
     "output_type": "stream",
     "text": [
      "Loaded 105 npy files.\n"
     ]
    },
    {
     "name": "stderr",
     "output_type": "stream",
     "text": [
      "Processing volumes: 100%|██████████| 105/105 [02:16<00:00,  1.30s/it]\n",
      "Save volumes: 100%|██████████| 105/105 [00:00<00:00, 141.38it/s]\n"
     ]
    }
   ],
   "source": [
    "dbx = dropbox_connect()\n",
    "t1post_g4 = load_npy_from_dropbox(dbx, '/Motion_data_140line_notrans_t1post_1115_g4')\n",
    "print(f\"Loaded {len(t1post_g4)} npy files.\") \n",
    "t1post_g4 = process_dict(t1post_g4)\n",
    "save_data(t1post_g4, \"t1post_g4\")"
   ]
  },
  {
   "cell_type": "code",
   "execution_count": 14,
   "metadata": {},
   "outputs": [
    {
     "name": "stdout",
     "output_type": "stream",
     "text": [
      "Loaded 105 npy files.\n"
     ]
    },
    {
     "name": "stderr",
     "output_type": "stream",
     "text": [
      "Processing volumes: 100%|██████████| 105/105 [02:19<00:00,  1.32s/it]\n",
      "Save volumes: 100%|██████████| 105/105 [00:00<00:00, 142.13it/s]\n"
     ]
    }
   ],
   "source": [
    "dbx = dropbox_connect()\n",
    "t1post_g5 = load_npy_from_dropbox(dbx, '/Motion_data_140line_notrans_t1post_1115_g5')\n",
    "print(f\"Loaded {len(t1post_g5)} npy files.\") \n",
    "t1post_g5 = process_dict(t1post_g5)\n",
    "save_data(t1post_g5, \"t1post_g5\")"
   ]
  },
  {
   "cell_type": "markdown",
   "metadata": {},
   "source": [
    "## t2 (100)"
   ]
  },
  {
   "cell_type": "code",
   "execution_count": 15,
   "metadata": {},
   "outputs": [
    {
     "name": "stdout",
     "output_type": "stream",
     "text": [
      "Loaded 100 npy files.\n"
     ]
    },
    {
     "name": "stderr",
     "output_type": "stream",
     "text": [
      "Processing volumes: 100%|██████████| 100/100 [02:10<00:00,  1.31s/it]\n",
      "Save volumes: 100%|██████████| 100/100 [00:00<00:00, 140.07it/s]\n"
     ]
    }
   ],
   "source": [
    "dbx = dropbox_connect()\n",
    "t2_clear = load_npy_from_dropbox(dbx, '/Clear_data_notrans_t2_1114_select_clear')\n",
    "print(f\"Loaded {len(t2_clear)} npy files.\") #100\n",
    "t2_clear = process_dict(t2_clear)\n",
    "save_data(t2_clear, \"t2_clear\")"
   ]
  },
  {
   "cell_type": "code",
   "execution_count": 16,
   "metadata": {},
   "outputs": [
    {
     "name": "stdout",
     "output_type": "stream",
     "text": [
      "Loaded 100 npy files.\n"
     ]
    },
    {
     "name": "stderr",
     "output_type": "stream",
     "text": [
      "Processing volumes: 100%|██████████| 100/100 [02:07<00:00,  1.28s/it]\n",
      "Save volumes: 100%|██████████| 100/100 [00:00<00:00, 135.54it/s]\n"
     ]
    }
   ],
   "source": [
    "dbx = dropbox_connect()\n",
    "t2_g1 = load_npy_from_dropbox(dbx, '/Motion_data_140line_notrans_t2_1115_g1')\n",
    "print(f\"Loaded {len(t2_g1)} npy files.\") #100\n",
    "t2_g1 = process_dict(t2_g1)\n",
    "save_data(t2_g1, \"t2_g1\")"
   ]
  },
  {
   "cell_type": "code",
   "execution_count": 17,
   "metadata": {},
   "outputs": [
    {
     "name": "stdout",
     "output_type": "stream",
     "text": [
      "Loaded 100 npy files.\n"
     ]
    },
    {
     "name": "stderr",
     "output_type": "stream",
     "text": [
      "Processing volumes: 100%|██████████| 100/100 [02:13<00:00,  1.34s/it]\n",
      "Save volumes: 100%|██████████| 100/100 [00:00<00:00, 147.16it/s]\n"
     ]
    }
   ],
   "source": [
    "dbx = dropbox_connect()\n",
    "t2_g2 = load_npy_from_dropbox(dbx, '/Motion_data_140line_notrans_t2_1115_g2')\n",
    "print(f\"Loaded {len(t2_g2)} npy files.\") #100\n",
    "t2_g2 = process_dict(t2_g2)\n",
    "save_data(t2_g2, \"t2_g2\")"
   ]
  },
  {
   "cell_type": "code",
   "execution_count": 18,
   "metadata": {},
   "outputs": [
    {
     "name": "stdout",
     "output_type": "stream",
     "text": [
      "Loaded 100 npy files.\n"
     ]
    },
    {
     "name": "stderr",
     "output_type": "stream",
     "text": [
      "Processing volumes: 100%|██████████| 100/100 [02:09<00:00,  1.30s/it]\n",
      "Save volumes: 100%|██████████| 100/100 [00:00<00:00, 152.25it/s]\n"
     ]
    }
   ],
   "source": [
    "dbx = dropbox_connect()\n",
    "t2_g3 = load_npy_from_dropbox(dbx, '/Motion_data_140line_notrans_t2_1115_g3')\n",
    "print(f\"Loaded {len(t2_g3)} npy files.\") #100\n",
    "t2_g3 = process_dict(t2_g3)\n",
    "save_data(t2_g3, \"t2_g3\")"
   ]
  },
  {
   "cell_type": "code",
   "execution_count": 19,
   "metadata": {},
   "outputs": [
    {
     "name": "stdout",
     "output_type": "stream",
     "text": [
      "Loaded 100 npy files.\n"
     ]
    },
    {
     "name": "stderr",
     "output_type": "stream",
     "text": [
      "Processing volumes: 100%|██████████| 100/100 [02:11<00:00,  1.31s/it]\n",
      "Save volumes: 100%|██████████| 100/100 [00:00<00:00, 173.60it/s]\n"
     ]
    }
   ],
   "source": [
    "dbx = dropbox_connect()\n",
    "t2_g4 = load_npy_from_dropbox(dbx, '/Motion_data_140line_notrans_t2_1115_g4')\n",
    "print(f\"Loaded {len(t2_g4)} npy files.\") #100\n",
    "t2_g4 = process_dict(t2_g4)\n",
    "save_data(t2_g4, \"t2_g4\")"
   ]
  },
  {
   "cell_type": "code",
   "execution_count": 20,
   "metadata": {},
   "outputs": [
    {
     "name": "stdout",
     "output_type": "stream",
     "text": [
      "Loaded 100 npy files.\n"
     ]
    },
    {
     "name": "stderr",
     "output_type": "stream",
     "text": [
      "Processing volumes: 100%|██████████| 100/100 [02:08<00:00,  1.28s/it]\n",
      "Save volumes: 100%|██████████| 100/100 [00:00<00:00, 172.53it/s]\n"
     ]
    }
   ],
   "source": [
    "dbx = dropbox_connect()\n",
    "t2_g5 = load_npy_from_dropbox(dbx, '/Motion_data_140line_notrans_t2_1115_g5')\n",
    "print(f\"Loaded {len(t2_g5)} npy files.\") #100\n",
    "t2_g5 = process_dict(t2_g5)\n",
    "save_data(t2_g5, \"t2_g5\")"
   ]
  },
  {
   "cell_type": "markdown",
   "metadata": {},
   "source": [
    "# Metric"
   ]
  },
  {
   "cell_type": "code",
   "execution_count": null,
   "metadata": {},
   "outputs": [
    {
     "name": "stderr",
     "output_type": "stream",
     "text": [
      "2024-11-29 03:21:22.554763: E external/local_xla/xla/stream_executor/cuda/cuda_fft.cc:477] Unable to register cuFFT factory: Attempting to register factory for plugin cuFFT when one has already been registered\n",
      "WARNING: All log messages before absl::InitializeLog() is called are written to STDERR\n",
      "E0000 00:00:1732850482.568603    5723 cuda_dnn.cc:8310] Unable to register cuDNN factory: Attempting to register factory for plugin cuDNN when one has already been registered\n",
      "E0000 00:00:1732850482.572804    5723 cuda_blas.cc:1418] Unable to register cuBLAS factory: Attempting to register factory for plugin cuBLAS when one has already been registered\n"
     ]
    }
   ],
   "source": [
    "from calculate_metric.calculate_iqm import *\n",
    "from calculate_metric.calculate_lpips import compute_lpips"
   ]
  },
  {
   "cell_type": "code",
   "execution_count": null,
   "metadata": {},
   "outputs": [],
   "source": [
    "# compute_lpips(\"t1\")\n",
    "# compute_lpips(\"t1post\")\n",
    "# compute_lpips(\"t2\")\n",
    "# compute_lpips(\"flair\")"
   ]
  },
  {
   "cell_type": "code",
   "execution_count": null,
   "metadata": {},
   "outputs": [
    {
     "name": "stderr",
     "output_type": "stream",
     "text": [
      "Processing keys: 100%|██████████| 105/105 [2:52:17<00:00, 98.45s/it]  \n"
     ]
    }
   ],
   "source": [
    "df_t1post_g3 = calculate_iqm(t1post_clear, t1post_g3, folder_name=\"t1post_g3\")\n",
    "df_t1post_g3.to_csv('t1post_g3_iqm.csv', index=False)"
   ]
  },
  {
   "cell_type": "code",
   "execution_count": 25,
   "metadata": {},
   "outputs": [
    {
     "name": "stderr",
     "output_type": "stream",
     "text": [
      "/root/motioncorrection/vsi.py:62: UserWarning: The original VSI supports only RGB images. The input images were converted to RGB by copying the grey channel 3 times.\n",
      "  warnings.warn('The original VSI supports only RGB images. The input images were converted to RGB by copying '\n"
     ]
    },
    {
     "name": "stdout",
     "output_type": "stream",
     "text": [
      "Slice 0: HaarPSI: 0.026864s, VSI: 2.227895s, VIF: 0.105441s, NQM: 0.075503s\n",
      "Slice 1: HaarPSI: 0.043069s, VSI: 3.188500s, VIF: 0.098878s, NQM: 0.143986s\n",
      "Slice 2: HaarPSI: 0.025591s, VSI: 2.815951s, VIF: 0.098517s, NQM: 0.069881s\n",
      "Slice 3: HaarPSI: 0.034050s, VSI: 2.717525s, VIF: 0.286741s, NQM: 0.070304s\n",
      "Slice 4: HaarPSI: 0.028859s, VSI: 1.597028s, VIF: 0.097053s, NQM: 0.072448s\n",
      "Slice 5: HaarPSI: 0.028511s, VSI: 2.103747s, VIF: 0.203822s, NQM: 0.151679s\n",
      "Slice 6: HaarPSI: 0.026410s, VSI: 3.315614s, VIF: 0.099177s, NQM: 0.068837s\n",
      "Slice 7: HaarPSI: 0.029052s, VSI: 2.590781s, VIF: 0.101439s, NQM: 0.071635s\n",
      "Slice 8: HaarPSI: 0.029613s, VSI: 1.713358s, VIF: 0.184042s, NQM: 0.069362s\n",
      "Slice 9: HaarPSI: 0.028555s, VSI: 2.708061s, VIF: 0.099533s, NQM: 0.070419s\n",
      "Slice 10: HaarPSI: 0.028651s, VSI: 3.301062s, VIF: 0.107145s, NQM: 0.140044s\n",
      "Slice 11: HaarPSI: 0.025955s, VSI: 4.233188s, VIF: 0.193908s, NQM: 0.153963s\n",
      "Slice 12: HaarPSI: 0.027451s, VSI: 2.807444s, VIF: 0.098870s, NQM: 0.070369s\n",
      "Slice 13: HaarPSI: 0.028307s, VSI: 5.717487s, VIF: 0.091356s, NQM: 0.074407s\n",
      "Slice 14: HaarPSI: 0.028147s, VSI: 4.891965s, VIF: 0.102223s, NQM: 0.071742s\n",
      "Slice 15: HaarPSI: 0.028348s, VSI: 2.996562s, VIF: 0.106385s, NQM: 0.072878s\n"
     ]
    }
   ],
   "source": [
    "calculate_iqm_time(t1post_clear, t1post_g5)"
   ]
  },
  {
   "cell_type": "markdown",
   "metadata": {},
   "source": [
    "### motion"
   ]
  },
  {
   "cell_type": "markdown",
   "metadata": {},
   "source": [
    "parameter 2d 기준\n",
    "[translation y방향, translation x방향, 0, rotation yaw, 0,0]"
   ]
  },
  {
   "attachments": {
    "image.png": {
     "image/png": "[encoded data removed]"
    }
   },
   "cell_type": "markdown",
   "metadata": {},
   "source": [
    "![image.png](attachment:image.png)"
   ]
  }
 ],
 "metadata": {
  "kernelspec": {
   "display_name": ".venv",
   "language": "python",
   "name": "python3"
  },
  "language_info": {
   "codemirror_mode": {
    "name": "ipython",
    "version": 3
   },
   "file_extension": ".py",
   "mimetype": "text/x-python",
   "name": "python",
   "nbconvert_exporter": "python",
   "pygments_lexer": "ipython3",
   "version": "3.10.12"
  }
 },
 "nbformat": 4,
 "nbformat_minor": 2
}
