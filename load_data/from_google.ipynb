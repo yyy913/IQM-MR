{
 "cells": [
  {
   "cell_type": "markdown",
   "metadata": {},
   "source": [
    "# Google Drive"
   ]
  },
  {
   "cell_type": "code",
   "execution_count": null,
   "metadata": {},
   "outputs": [],
   "source": [
    "from load_data.load_from_googledrive import *"
   ]
  },
  {
   "cell_type": "code",
   "execution_count": null,
   "metadata": {},
   "outputs": [
    {
     "name": "stdout",
     "output_type": "stream",
     "text": [
      "Google Drive에 저장된 폴더:\n",
      "Clear_data_notrans_t2_1114_select_clear (1Xe5Skz0LmgPgsvmIU91FFJVIqGQZjC6H)\n",
      "Clear_data_notrans_t2_1114_select_clear (1lO5vEI3qc6q2hwXiyNF9QHaEBBzNrp6t)\n",
      "Clear_data_notrans_t1post_1114_select_clear (1S_ycXyCJSCxIui2BlebfUt-Sm0duMn8n)\n",
      "Motion_data_140line_notrans_t1post_1115_g5 (1QF0vBcRAZ3PhwA5tNOLfiBtEe1fUrz3g)\n",
      "Motion_data_140line_notrans_t1post_1115_g2 (1v5rKlmSSvlPpeWwaopAusdBpFMWU1dWC)\n",
      "Motion_data_140line_notrans_t1post_1115_g1 (1AHmPI8Uzm9pG2dHZW5T-UBAjJwz6PW-G)\n",
      "Motion_data_140line_notrans_t1post_1115_g3 (1mg-02gvoYWOE_AWHmfPlylUj2pO1PhAz)\n",
      "Motion_data_140line_notrans_t1post_1115_g4 (1sQXlxAHfpJTvNNv2R2sS2ZSFbl0-QMCM)\n",
      "Motion_data_140line_notrans_flair_1115_g2 (1RoSIHRCxD5Wk0UwYaEaJoV8yRpy9_kt6)\n",
      "Motion_data_140line_notrans_flair_1115_g4 (1jGLUwGIJJksly8x2DAc7MZidhYuqP1TE)\n",
      "Motion_data_140line_notrans_flair_1115_g3 (1tbF735jd8k8h62lEnQ802LkUUgjKR6ZN)\n",
      "Motion_data_140line_notrans_flair_1115_g5 (1g7yaHFC2STl_YyB0-MJqyMlwNTmjFcc5)\n",
      "Motion_data_140line_notrans_flair_1115_g1 (1NRbwTXvwSKiZXsQhKNjiFM4esHfupZdX)\n",
      "Clear_data_notrans_flair_1114_select_clear (16Vr4WO6TfXdk-kVTbOjYGBeIVr7h6vMX)\n",
      "Motion_data_140line_notrans_t1_1115_g2 (1wseVlIwq3mS-aQmsOueaxsOiFW8XhJyy)\n",
      "Motion_data_140line_notrans_t1_1115_g1 (10GrsoNY0_lMRM7d35ILgl7A6eMlzXxhX)\n",
      "241122_fastMRI_dataset (1QWricunv64MSuKwTGO0Am-VfbeC5CImD)\n",
      "Motion_data_140line_notrans_t1_1115_g3 (1YENdCVGxi91cI9euNq7-o9WhY9BowEEv)\n",
      "Motion_data_140line_notrans_t2_1115_g1 (1mhGUQymQ_cIsOnjV8Lbh-Uv7wyZB36Xu)\n",
      "Motion_data_140line_notrans_t2_1115_g2 (1qIGBonjgNz4i2ZGmX52LoJVCifqvtnll)\n",
      "Motion_data_140line_notrans_t2_1115_g4 (19Xzv9k-MpQ5wTv00TgIXgTdWXECioJhp)\n",
      "Motion_data_140line_notrans_t2_1115_g5 (1dZXGMVgK1mdwrO8Ojoh7OszVAtYIAZqi)\n",
      "Motion_data_140line_notrans_t2_1115_g3 (1rFM79Q2e5kvaJDQvo8aS4H-t48ZDfaei)\n",
      "Motion_data_140line_notrans_t1_1115_g4 (1dL3xFW3FzlLrKGJ6lkclDjY9eRkTaxA6)\n",
      "Motion_data_140line_notrans_t1_1115_g5 (1T5ec1x35ehMVCEWRDbEs62EAC4aejKx1)\n",
      "Clear_data_notrans_t1_1114_select_clear (13EQdbzv5ckrE6N1QUJrpxmt6hJMoQ-5L)\n"
     ]
    }
   ],
   "source": [
    "# Google Drive에서 폴더만 출력\n",
    "service = google_drive_connect()\n",
    "results = service.files().list(\n",
    "    pageSize=100,\n",
    "    fields=\"nextPageToken, files(id, name)\",\n",
    "    q=\"mimeType='application/vnd.google-apps.folder'\"\n",
    ").execute()\n",
    "\n",
    "items = results.get('files', [])\n",
    "\n",
    "# 폴더 출력\n",
    "if not items:\n",
    "    print('Google Drive에 폴더가 없습니다.')\n",
    "else:\n",
    "    print('Google Drive에 저장된 폴더:')\n",
    "    for item in items:\n",
    "        print(f\"{item['name']} ({item['id']})\")"
   ]
  },
  {
   "cell_type": "markdown",
   "metadata": {},
   "source": [
    "## t1 (134)"
   ]
  },
  {
   "cell_type": "code",
   "execution_count": null,
   "metadata": {},
   "outputs": [],
   "source": [
    "folder_id = \"13EQdbzv5ckrE6N1QUJrpxmt6hJMoQ-5L\" \n",
    "service = google_drive_connect()\n",
    "t1_clear = load_npy_from_google_drive(service, folder_id, max_workers=1)"
   ]
  },
  {
   "cell_type": "code",
   "execution_count": null,
   "metadata": {},
   "outputs": [],
   "source": [
    "folder_id = \"10GrsoNY0_lMRM7d35ILgl7A6eMlzXxhX\" \n",
    "service = google_drive_connect()\n",
    "t1_g1 = load_npy_from_google_drive(service, folder_id, max_workers=1)"
   ]
  },
  {
   "cell_type": "code",
   "execution_count": null,
   "metadata": {},
   "outputs": [],
   "source": [
    "folder_id = \"1wseVlIwq3mS-aQmsOueaxsOiFW8XhJyy\" \n",
    "service = google_drive_connect()\n",
    "t1_g2 = load_npy_from_google_drive(service, folder_id, max_workers=1)"
   ]
  },
  {
   "cell_type": "code",
   "execution_count": null,
   "metadata": {},
   "outputs": [],
   "source": [
    "folder_id = \"1YENdCVGxi91cI9euNq7-o9WhY9BowEEv\" \n",
    "service = google_drive_connect()\n",
    "t1_g3 = load_npy_from_google_drive(service, folder_id, max_workers=1)"
   ]
  },
  {
   "cell_type": "code",
   "execution_count": null,
   "metadata": {},
   "outputs": [],
   "source": [
    "folder_id = \"1dL3xFW3FzlLrKGJ6lkclDjY9eRkTaxA6\" \n",
    "service = google_drive_connect()\n",
    "t1_g4 = load_npy_from_google_drive(service, folder_id, max_workers=1)"
   ]
  },
  {
   "cell_type": "code",
   "execution_count": null,
   "metadata": {},
   "outputs": [],
   "source": [
    "folder_id = \"1T5ec1x35ehMVCEWRDbEs62EAC4aejKx1\" \n",
    "service = google_drive_connect()\n",
    "t1_g5 = load_npy_from_google_drive(service, folder_id, max_workers=1)"
   ]
  },
  {
   "cell_type": "markdown",
   "metadata": {},
   "source": [
    "## t1post  (105)"
   ]
  },
  {
   "cell_type": "code",
   "execution_count": null,
   "metadata": {},
   "outputs": [],
   "source": [
    "folder_id = \"1S_ycXyCJSCxIui2BlebfUt-Sm0duMn8n\" \n",
    "service = google_drive_connect()\n",
    "t1post_clear = load_npy_from_google_drive(service, folder_id, max_workers=1)"
   ]
  },
  {
   "cell_type": "code",
   "execution_count": null,
   "metadata": {},
   "outputs": [],
   "source": [
    "folder_id = \"1AHmPI8Uzm9pG2dHZW5T-UBAjJwz6PW-G\" \n",
    "service = google_drive_connect()\n",
    "t1post_g1 = load_npy_from_google_drive(service, folder_id, max_workers=1)"
   ]
  },
  {
   "cell_type": "code",
   "execution_count": null,
   "metadata": {},
   "outputs": [],
   "source": [
    "folder_id = \"1v5rKlmSSvlPpeWwaopAusdBpFMWU1dWC\" \n",
    "service = google_drive_connect()\n",
    "t1post_g2 = load_npy_from_google_drive(service, folder_id, max_workers=1)"
   ]
  },
  {
   "cell_type": "code",
   "execution_count": null,
   "metadata": {},
   "outputs": [],
   "source": [
    "folder_id = \"1mg-02gvoYWOE_AWHmfPlylUj2pO1PhAz\" \n",
    "service = google_drive_connect()\n",
    "t1post_g3 = load_npy_from_google_drive(service, folder_id, max_workers=1)"
   ]
  },
  {
   "cell_type": "code",
   "execution_count": null,
   "metadata": {},
   "outputs": [],
   "source": [
    "folder_id = \"1sQXlxAHfpJTvNNv2R2sS2ZSFbl0-QMCM\" \n",
    "service = google_drive_connect()\n",
    "t1post_g4 = load_npy_from_google_drive(service, folder_id, max_workers=1)"
   ]
  },
  {
   "cell_type": "code",
   "execution_count": null,
   "metadata": {},
   "outputs": [],
   "source": [
    "folder_id = \"1QF0vBcRAZ3PhwA5tNOLfiBtEe1fUrz3g\" \n",
    "service = google_drive_connect()\n",
    "t1post_g5 = load_npy_from_google_drive(service, folder_id, max_workers=1)"
   ]
  },
  {
   "cell_type": "markdown",
   "metadata": {},
   "source": [
    "## t2 (100)"
   ]
  },
  {
   "cell_type": "code",
   "execution_count": null,
   "metadata": {},
   "outputs": [],
   "source": [
    "folder_id = \"1Xe5Skz0LmgPgsvmIU91FFJVIqGQZjC6H\" \n",
    "service = google_drive_connect()\n",
    "t2_clear = load_npy_from_google_drive(service, folder_id, max_workers=1)"
   ]
  },
  {
   "cell_type": "code",
   "execution_count": null,
   "metadata": {},
   "outputs": [],
   "source": [
    "folder_id = \"1mhGUQymQ_cIsOnjV8Lbh-Uv7wyZB36Xu\" \n",
    "service = google_drive_connect()\n",
    "t2_g1 = load_npy_from_google_drive(service, folder_id, max_workers=1)"
   ]
  },
  {
   "cell_type": "code",
   "execution_count": null,
   "metadata": {},
   "outputs": [],
   "source": [
    "folder_id = \"1qIGBonjgNz4i2ZGmX52LoJVCifqvtnll\" \n",
    "service = google_drive_connect()\n",
    "t2_g2 = load_npy_from_google_drive(service, folder_id, max_workers=1)"
   ]
  },
  {
   "cell_type": "code",
   "execution_count": null,
   "metadata": {},
   "outputs": [],
   "source": [
    "folder_id = \"1rFM79Q2e5kvaJDQvo8aS4H-t48ZDfaei\" \n",
    "service = google_drive_connect()\n",
    "t2_g3 = load_npy_from_google_drive(service, folder_id, max_workers=1)"
   ]
  },
  {
   "cell_type": "code",
   "execution_count": null,
   "metadata": {},
   "outputs": [],
   "source": [
    "folder_id = \"19Xzv9k-MpQ5wTv00TgIXgTdWXECioJhp\" \n",
    "service = google_drive_connect()\n",
    "t2_g4 = load_npy_from_google_drive(service, folder_id, max_workers=1)"
   ]
  },
  {
   "cell_type": "code",
   "execution_count": null,
   "metadata": {},
   "outputs": [],
   "source": [
    "folder_id = \"1dZXGMVgK1mdwrO8Ojoh7OszVAtYIAZqi\" \n",
    "service = google_drive_connect()\n",
    "t2_g5 = load_npy_from_google_drive(service, folder_id, max_workers=1)"
   ]
  },
  {
   "cell_type": "markdown",
   "metadata": {},
   "source": [
    "## flair (119)"
   ]
  },
  {
   "cell_type": "code",
   "execution_count": null,
   "metadata": {},
   "outputs": [],
   "source": [
    "folder_id = \"16Vr4WO6TfXdk-kVTbOjYGBeIVr7h6vMX\" \n",
    "service = google_drive_connect()\n",
    "flair_clear = load_npy_from_google_drive(service, folder_id, max_workers=1)"
   ]
  },
  {
   "cell_type": "code",
   "execution_count": null,
   "metadata": {},
   "outputs": [],
   "source": [
    "folder_id = \"1NRbwTXvwSKiZXsQhKNjiFM4esHfupZdX\" \n",
    "service = google_drive_connect()\n",
    "flair_g1 = load_npy_from_google_drive(service, folder_id, max_workers=1)"
   ]
  },
  {
   "cell_type": "code",
   "execution_count": null,
   "metadata": {},
   "outputs": [],
   "source": [
    "folder_id = \"1RoSIHRCxD5Wk0UwYaEaJoV8yRpy9_kt6\" \n",
    "service = google_drive_connect()\n",
    "flair_g2 = load_npy_from_google_drive(service, folder_id, max_workers=1)"
   ]
  },
  {
   "cell_type": "code",
   "execution_count": null,
   "metadata": {},
   "outputs": [],
   "source": [
    "folder_id = \"1tbF735jd8k8h62lEnQ802LkUUgjKR6ZN\" \n",
    "service = google_drive_connect()\n",
    "flair_g3 = load_npy_from_google_drive(service, folder_id, max_workers=1)"
   ]
  },
  {
   "cell_type": "code",
   "execution_count": null,
   "metadata": {},
   "outputs": [],
   "source": [
    "folder_id = \"1jGLUwGIJJksly8x2DAc7MZidhYuqP1TE\" \n",
    "service = google_drive_connect()\n",
    "flair_g4 = load_npy_from_google_drive(service, folder_id, max_workers=1)"
   ]
  },
  {
   "cell_type": "code",
   "execution_count": null,
   "metadata": {},
   "outputs": [],
   "source": [
    "folder_id = \"1g7yaHFC2STl_YyB0-MJqyMlwNTmjFcc5\" \n",
    "service = google_drive_connect()\n",
    "flair_g5 = load_npy_from_google_drive(service, folder_id, max_workers=1)"
   ]
  }
 ],
 "metadata": {
  "language_info": {
   "name": "python"
  }
 },
 "nbformat": 4,
 "nbformat_minor": 2
}
